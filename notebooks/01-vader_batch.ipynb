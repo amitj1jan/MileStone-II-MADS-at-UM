{
 "cells": [
  {
   "cell_type": "code",
   "execution_count": 1,
   "metadata": {},
   "outputs": [
    {
     "name": "stderr",
     "output_type": "stream",
     "text": [
      "[nltk_data] Downloading package vader_lexicon to\n",
      "[nltk_data]     /Users/rich/nltk_data...\n",
      "[nltk_data]   Package vader_lexicon is already up-to-date!\n"
     ]
    }
   ],
   "source": [
    "import numpy as np\n",
    "import pandas as pd\n",
    "import glob\n",
    "\n",
    "import nltk\n",
    "nltk.download('vader_lexicon')\n",
    "from nltk.sentiment.vader import SentimentIntensityAnalyzer\n",
    "\n",
    "sid = SentimentIntensityAnalyzer()"
   ]
  },
  {
   "cell_type": "code",
   "execution_count": 2,
   "metadata": {},
   "outputs": [
    {
     "ename": "KeyboardInterrupt",
     "evalue": "",
     "output_type": "error",
     "traceback": [
      "\u001b[0;31m---------------------------------------------------------------------------\u001b[0m",
      "\u001b[0;31mKeyboardInterrupt\u001b[0m                         Traceback (most recent call last)",
      "\u001b[1;32m/Users/rich/Library/CloudStorage/GoogleDrive-rich@sajdak.com/My Drive/01-UMSI-MADS/2022 Fall/SIADS696 - Milestone II/Project/01-vader_batch.ipynb Cell 2\u001b[0m in \u001b[0;36m<cell line: 8>\u001b[0;34m()\u001b[0m\n\u001b[1;32m     <a href='vscode-notebook-cell:/Users/rich/Library/CloudStorage/GoogleDrive-rich%40sajdak.com/My%20Drive/01-UMSI-MADS/2022%20Fall/SIADS696%20-%20Milestone%20II/Project/01-vader_batch.ipynb#W1sZmlsZQ%3D%3D?line=20'>21</a>\u001b[0m df_all \u001b[39m=\u001b[39m pd\u001b[39m.\u001b[39mmerge(df_topics, df_article, left_on\u001b[39m=\u001b[39m\u001b[39m'\u001b[39m\u001b[39mid\u001b[39m\u001b[39m'\u001b[39m, right_on\u001b[39m=\u001b[39m\u001b[39m'\u001b[39m\u001b[39mid\u001b[39m\u001b[39m'\u001b[39m, how\u001b[39m=\u001b[39m\u001b[39m'\u001b[39m\u001b[39minner\u001b[39m\u001b[39m'\u001b[39m)\n\u001b[1;32m     <a href='vscode-notebook-cell:/Users/rich/Library/CloudStorage/GoogleDrive-rich%40sajdak.com/My%20Drive/01-UMSI-MADS/2022%20Fall/SIADS696%20-%20Milestone%20II/Project/01-vader_batch.ipynb#W1sZmlsZQ%3D%3D?line=22'>23</a>\u001b[0m \u001b[39m#Apply sentiment analysis. Create 'sent_scores' column and populate\u001b[39;00m\n\u001b[0;32m---> <a href='vscode-notebook-cell:/Users/rich/Library/CloudStorage/GoogleDrive-rich%40sajdak.com/My%20Drive/01-UMSI-MADS/2022%20Fall/SIADS696%20-%20Milestone%20II/Project/01-vader_batch.ipynb#W1sZmlsZQ%3D%3D?line=23'>24</a>\u001b[0m df_all[\u001b[39m'\u001b[39m\u001b[39msent_scores\u001b[39m\u001b[39m'\u001b[39m] \u001b[39m=\u001b[39m df_all[\u001b[39m'\u001b[39;49m\u001b[39marticle\u001b[39;49m\u001b[39m'\u001b[39;49m]\u001b[39m.\u001b[39;49mapply(\u001b[39mlambda\u001b[39;49;00m article: sid\u001b[39m.\u001b[39;49mpolarity_scores(article))\n\u001b[1;32m     <a href='vscode-notebook-cell:/Users/rich/Library/CloudStorage/GoogleDrive-rich%40sajdak.com/My%20Drive/01-UMSI-MADS/2022%20Fall/SIADS696%20-%20Milestone%20II/Project/01-vader_batch.ipynb#W1sZmlsZQ%3D%3D?line=25'>26</a>\u001b[0m \u001b[39m#Create 'compound' column and populate\u001b[39;00m\n\u001b[1;32m     <a href='vscode-notebook-cell:/Users/rich/Library/CloudStorage/GoogleDrive-rich%40sajdak.com/My%20Drive/01-UMSI-MADS/2022%20Fall/SIADS696%20-%20Milestone%20II/Project/01-vader_batch.ipynb#W1sZmlsZQ%3D%3D?line=26'>27</a>\u001b[0m df_all[\u001b[39m'\u001b[39m\u001b[39mcompound\u001b[39m\u001b[39m'\u001b[39m]  \u001b[39m=\u001b[39m df_all[\u001b[39m'\u001b[39m\u001b[39msent_scores\u001b[39m\u001b[39m'\u001b[39m]\u001b[39m.\u001b[39mapply(\u001b[39mlambda\u001b[39;00m score_dict: score_dict[\u001b[39m'\u001b[39m\u001b[39mcompound\u001b[39m\u001b[39m'\u001b[39m])\n",
      "File \u001b[0;32m~/opt/anaconda3/envs/ml/lib/python3.9/site-packages/pandas/core/series.py:4774\u001b[0m, in \u001b[0;36mSeries.apply\u001b[0;34m(self, func, convert_dtype, args, **kwargs)\u001b[0m\n\u001b[1;32m   4664\u001b[0m \u001b[39mdef\u001b[39;00m \u001b[39mapply\u001b[39m(\n\u001b[1;32m   4665\u001b[0m     \u001b[39mself\u001b[39m,\n\u001b[1;32m   4666\u001b[0m     func: AggFuncType,\n\u001b[0;32m   (...)\u001b[0m\n\u001b[1;32m   4669\u001b[0m     \u001b[39m*\u001b[39m\u001b[39m*\u001b[39mkwargs,\n\u001b[1;32m   4670\u001b[0m ) \u001b[39m-\u001b[39m\u001b[39m>\u001b[39m DataFrame \u001b[39m|\u001b[39m Series:\n\u001b[1;32m   4671\u001b[0m     \u001b[39m\"\"\"\u001b[39;00m\n\u001b[1;32m   4672\u001b[0m \u001b[39m    Invoke function on values of Series.\u001b[39;00m\n\u001b[1;32m   4673\u001b[0m \n\u001b[0;32m   (...)\u001b[0m\n\u001b[1;32m   4772\u001b[0m \u001b[39m    dtype: float64\u001b[39;00m\n\u001b[1;32m   4773\u001b[0m \u001b[39m    \"\"\"\u001b[39;00m\n\u001b[0;32m-> 4774\u001b[0m     \u001b[39mreturn\u001b[39;00m SeriesApply(\u001b[39mself\u001b[39;49m, func, convert_dtype, args, kwargs)\u001b[39m.\u001b[39;49mapply()\n",
      "File \u001b[0;32m~/opt/anaconda3/envs/ml/lib/python3.9/site-packages/pandas/core/apply.py:1100\u001b[0m, in \u001b[0;36mSeriesApply.apply\u001b[0;34m(self)\u001b[0m\n\u001b[1;32m   1097\u001b[0m     \u001b[39mreturn\u001b[39;00m \u001b[39mself\u001b[39m\u001b[39m.\u001b[39mapply_str()\n\u001b[1;32m   1099\u001b[0m \u001b[39m# self.f is Callable\u001b[39;00m\n\u001b[0;32m-> 1100\u001b[0m \u001b[39mreturn\u001b[39;00m \u001b[39mself\u001b[39;49m\u001b[39m.\u001b[39;49mapply_standard()\n",
      "File \u001b[0;32m~/opt/anaconda3/envs/ml/lib/python3.9/site-packages/pandas/core/apply.py:1151\u001b[0m, in \u001b[0;36mSeriesApply.apply_standard\u001b[0;34m(self)\u001b[0m\n\u001b[1;32m   1149\u001b[0m     \u001b[39melse\u001b[39;00m:\n\u001b[1;32m   1150\u001b[0m         values \u001b[39m=\u001b[39m obj\u001b[39m.\u001b[39mastype(\u001b[39mobject\u001b[39m)\u001b[39m.\u001b[39m_values\n\u001b[0;32m-> 1151\u001b[0m         mapped \u001b[39m=\u001b[39m lib\u001b[39m.\u001b[39;49mmap_infer(\n\u001b[1;32m   1152\u001b[0m             values,\n\u001b[1;32m   1153\u001b[0m             f,\n\u001b[1;32m   1154\u001b[0m             convert\u001b[39m=\u001b[39;49m\u001b[39mself\u001b[39;49m\u001b[39m.\u001b[39;49mconvert_dtype,\n\u001b[1;32m   1155\u001b[0m         )\n\u001b[1;32m   1157\u001b[0m \u001b[39mif\u001b[39;00m \u001b[39mlen\u001b[39m(mapped) \u001b[39mand\u001b[39;00m \u001b[39misinstance\u001b[39m(mapped[\u001b[39m0\u001b[39m], ABCSeries):\n\u001b[1;32m   1158\u001b[0m     \u001b[39m# GH#43986 Need to do list(mapped) in order to get treated as nested\u001b[39;00m\n\u001b[1;32m   1159\u001b[0m     \u001b[39m#  See also GH#25959 regarding EA support\u001b[39;00m\n\u001b[1;32m   1160\u001b[0m     \u001b[39mreturn\u001b[39;00m obj\u001b[39m.\u001b[39m_constructor_expanddim(\u001b[39mlist\u001b[39m(mapped), index\u001b[39m=\u001b[39mobj\u001b[39m.\u001b[39mindex)\n",
      "File \u001b[0;32m~/opt/anaconda3/envs/ml/lib/python3.9/site-packages/pandas/_libs/lib.pyx:2919\u001b[0m, in \u001b[0;36mpandas._libs.lib.map_infer\u001b[0;34m()\u001b[0m\n",
      "\u001b[1;32m/Users/rich/Library/CloudStorage/GoogleDrive-rich@sajdak.com/My Drive/01-UMSI-MADS/2022 Fall/SIADS696 - Milestone II/Project/01-vader_batch.ipynb Cell 2\u001b[0m in \u001b[0;36m<lambda>\u001b[0;34m(article)\u001b[0m\n\u001b[1;32m     <a href='vscode-notebook-cell:/Users/rich/Library/CloudStorage/GoogleDrive-rich%40sajdak.com/My%20Drive/01-UMSI-MADS/2022%20Fall/SIADS696%20-%20Milestone%20II/Project/01-vader_batch.ipynb#W1sZmlsZQ%3D%3D?line=20'>21</a>\u001b[0m df_all \u001b[39m=\u001b[39m pd\u001b[39m.\u001b[39mmerge(df_topics, df_article, left_on\u001b[39m=\u001b[39m\u001b[39m'\u001b[39m\u001b[39mid\u001b[39m\u001b[39m'\u001b[39m, right_on\u001b[39m=\u001b[39m\u001b[39m'\u001b[39m\u001b[39mid\u001b[39m\u001b[39m'\u001b[39m, how\u001b[39m=\u001b[39m\u001b[39m'\u001b[39m\u001b[39minner\u001b[39m\u001b[39m'\u001b[39m)\n\u001b[1;32m     <a href='vscode-notebook-cell:/Users/rich/Library/CloudStorage/GoogleDrive-rich%40sajdak.com/My%20Drive/01-UMSI-MADS/2022%20Fall/SIADS696%20-%20Milestone%20II/Project/01-vader_batch.ipynb#W1sZmlsZQ%3D%3D?line=22'>23</a>\u001b[0m \u001b[39m#Apply sentiment analysis. Create 'sent_scores' column and populate\u001b[39;00m\n\u001b[0;32m---> <a href='vscode-notebook-cell:/Users/rich/Library/CloudStorage/GoogleDrive-rich%40sajdak.com/My%20Drive/01-UMSI-MADS/2022%20Fall/SIADS696%20-%20Milestone%20II/Project/01-vader_batch.ipynb#W1sZmlsZQ%3D%3D?line=23'>24</a>\u001b[0m df_all[\u001b[39m'\u001b[39m\u001b[39msent_scores\u001b[39m\u001b[39m'\u001b[39m] \u001b[39m=\u001b[39m df_all[\u001b[39m'\u001b[39m\u001b[39marticle\u001b[39m\u001b[39m'\u001b[39m]\u001b[39m.\u001b[39mapply(\u001b[39mlambda\u001b[39;00m article: sid\u001b[39m.\u001b[39;49mpolarity_scores(article))\n\u001b[1;32m     <a href='vscode-notebook-cell:/Users/rich/Library/CloudStorage/GoogleDrive-rich%40sajdak.com/My%20Drive/01-UMSI-MADS/2022%20Fall/SIADS696%20-%20Milestone%20II/Project/01-vader_batch.ipynb#W1sZmlsZQ%3D%3D?line=25'>26</a>\u001b[0m \u001b[39m#Create 'compound' column and populate\u001b[39;00m\n\u001b[1;32m     <a href='vscode-notebook-cell:/Users/rich/Library/CloudStorage/GoogleDrive-rich%40sajdak.com/My%20Drive/01-UMSI-MADS/2022%20Fall/SIADS696%20-%20Milestone%20II/Project/01-vader_batch.ipynb#W1sZmlsZQ%3D%3D?line=26'>27</a>\u001b[0m df_all[\u001b[39m'\u001b[39m\u001b[39mcompound\u001b[39m\u001b[39m'\u001b[39m]  \u001b[39m=\u001b[39m df_all[\u001b[39m'\u001b[39m\u001b[39msent_scores\u001b[39m\u001b[39m'\u001b[39m]\u001b[39m.\u001b[39mapply(\u001b[39mlambda\u001b[39;00m score_dict: score_dict[\u001b[39m'\u001b[39m\u001b[39mcompound\u001b[39m\u001b[39m'\u001b[39m])\n",
      "File \u001b[0;32m~/opt/anaconda3/envs/ml/lib/python3.9/site-packages/nltk/sentiment/vader.py:368\u001b[0m, in \u001b[0;36mSentimentIntensityAnalyzer.polarity_scores\u001b[0;34m(self, text)\u001b[0m\n\u001b[1;32m    366\u001b[0m \u001b[39mfor\u001b[39;00m item \u001b[39min\u001b[39;00m words_and_emoticons:\n\u001b[1;32m    367\u001b[0m     valence \u001b[39m=\u001b[39m \u001b[39m0\u001b[39m\n\u001b[0;32m--> 368\u001b[0m     i \u001b[39m=\u001b[39m words_and_emoticons\u001b[39m.\u001b[39;49mindex(item)\n\u001b[1;32m    369\u001b[0m     \u001b[39mif\u001b[39;00m (\n\u001b[1;32m    370\u001b[0m         i \u001b[39m<\u001b[39m \u001b[39mlen\u001b[39m(words_and_emoticons) \u001b[39m-\u001b[39m \u001b[39m1\u001b[39m\n\u001b[1;32m    371\u001b[0m         \u001b[39mand\u001b[39;00m item\u001b[39m.\u001b[39mlower() \u001b[39m==\u001b[39m \u001b[39m\"\u001b[39m\u001b[39mkind\u001b[39m\u001b[39m\"\u001b[39m\n\u001b[1;32m    372\u001b[0m         \u001b[39mand\u001b[39;00m words_and_emoticons[i \u001b[39m+\u001b[39m \u001b[39m1\u001b[39m]\u001b[39m.\u001b[39mlower() \u001b[39m==\u001b[39m \u001b[39m\"\u001b[39m\u001b[39mof\u001b[39m\u001b[39m\"\u001b[39m\n\u001b[1;32m    373\u001b[0m     ) \u001b[39mor\u001b[39;00m item\u001b[39m.\u001b[39mlower() \u001b[39min\u001b[39;00m \u001b[39mself\u001b[39m\u001b[39m.\u001b[39mconstants\u001b[39m.\u001b[39mBOOSTER_DICT:\n\u001b[1;32m    374\u001b[0m         sentiments\u001b[39m.\u001b[39mappend(valence)\n",
      "\u001b[0;31mKeyboardInterrupt\u001b[0m: "
     ]
    }
   ],
   "source": [
    "article_files = glob.glob('data/inferred_topics/articles_*.csv')\n",
    "\n",
    "# Topic numbers that are Politics, Business, and Healthcare\n",
    "# topics_nums = [2, 19, 22, 23, 27, 43, 44, 45, 47, \n",
    "#             49, 52, 57, 60, 63, 67, 82, 84, \n",
    "#             85, 87, 88, 90, 95, 98]\n",
    "\n",
    "for file in article_files:\n",
    "    #read in the topic inferred articles\n",
    "    df_topics = pd.read_csv(file)\n",
    "\n",
    "    #filter rows to only the relevant topics (Politics, Business, and Healthcare)\n",
    "    # df_topics = df.loc[df['topic_id'].isin(topics_nums)]\n",
    "    \n",
    "    #Need to bring in the article text. Going to join on the 'id' column\n",
    "    #First change the file name and path\n",
    "    article_file = file.replace('inferred_topics', 'original_articles').replace('csv', 'jl')\n",
    "    df_article = pd.read_json(article_file, lines=True)\n",
    "    df_article = df_article.dropna()\n",
    "    df_article['word_count'] = df_article['article'].str.split().str.len()\n",
    "\n",
    "    df_all = pd.merge(df_topics, df_article, left_on='id', right_on='id', how='inner')\n",
    "\n",
    "    #Apply sentiment analysis. Create 'sent_scores' column and populate\n",
    "    df_all['sent_scores'] = df_all['article'].apply(lambda article: sid.polarity_scores(article))\n",
    "\n",
    "    #Create 'compound' column and populate\n",
    "    df_all['compound']  = df_all['sent_scores'].apply(lambda score_dict: score_dict['compound'])\n",
    "\n",
    "    df_all['comp_score'] = df_all['compound'].apply(lambda c: 'pos' if c >=0 else 'neg')\n",
    "\n",
    "\n",
    "    df_all.drop(['Unnamed: 0', 'date_y', 'url', 'article', 'title', 'category'], axis=1, inplace=True)\n",
    "\n",
    "    #writing the file\n",
    "\n",
    "    filepath = file.replace('data/inferred_topics/articles_', 'data/output/topic_sent_output_')\n",
    "    df_all.to_csv(filepath, index=False)\n"
   ]
  }
 ],
 "metadata": {
  "kernelspec": {
   "display_name": "Python 3.9.13 ('ml')",
   "language": "python",
   "name": "python3"
  },
  "language_info": {
   "codemirror_mode": {
    "name": "ipython",
    "version": 3
   },
   "file_extension": ".py",
   "mimetype": "text/x-python",
   "name": "python",
   "nbconvert_exporter": "python",
   "pygments_lexer": "ipython3",
   "version": "3.9.13"
  },
  "orig_nbformat": 4,
  "vscode": {
   "interpreter": {
    "hash": "e7899c54e4c8cdd08725db3cf52f03a077a93a6c99c2e61a3f8684124bbe7368"
   }
  }
 },
 "nbformat": 4,
 "nbformat_minor": 2
}
